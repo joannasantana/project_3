{
 "cells": [
  {
   "cell_type": "code",
   "execution_count": 1,
   "id": "871f2118",
   "metadata": {},
   "outputs": [],
   "source": [
    "# Import dependencies\n",
    "import requests\n",
    "import json"
   ]
  },
  {
   "cell_type": "code",
   "execution_count": 3,
   "id": "fc8f0c3b",
   "metadata": {},
   "outputs": [],
   "source": [
    "# Store flask api results into json files\n",
    "results = requests.get(\"http://127.0.0.1:5000/api/v1.0/mortality\").json()\n",
    "with open(\"Output/mortality.json\", \"w\") as output:\n",
    "   json.dump(results, output)\n",
    "\n",
    "results = requests.get(\"http://127.0.0.1:5000/api/v1.0/cases\").json()\n",
    "with open(\"Output/cases.json\", \"w\") as output:\n",
    "   json.dump(results, output)\n",
    "\n",
    "results = requests.get(\"http://127.0.0.1:5000/api/v1.0/deaths\").json()\n",
    "with open(\"Output/deaths.json\", \"w\") as output:\n",
    "   json.dump(results, output)\n",
    "\n",
    "results = requests.get(\"http://127.0.0.1:5000/api/v1.0/rates\").json()\n",
    "with open(\"Output/rates.json\", \"w\") as output:\n",
    "   json.dump(results, output)"
   ]
  },
  {
   "cell_type": "code",
   "execution_count": null,
   "id": "af37825d",
   "metadata": {},
   "outputs": [],
   "source": []
  }
 ],
 "metadata": {
  "kernelspec": {
   "display_name": "Python 3 (ipykernel)",
   "language": "python",
   "name": "python3"
  },
  "language_info": {
   "codemirror_mode": {
    "name": "ipython",
    "version": 3
   },
   "file_extension": ".py",
   "mimetype": "text/x-python",
   "name": "python",
   "nbconvert_exporter": "python",
   "pygments_lexer": "ipython3",
   "version": "3.10.10"
  }
 },
 "nbformat": 4,
 "nbformat_minor": 5
}
